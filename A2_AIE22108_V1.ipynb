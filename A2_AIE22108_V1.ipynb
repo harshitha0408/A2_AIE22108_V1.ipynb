{
  "nbformat": 4,
  "nbformat_minor": 0,
  "metadata": {
    "colab": {
      "provenance": []
    },
    "kernelspec": {
      "name": "python3",
      "display_name": "Python 3"
    },
    "language_info": {
      "name": "python"
    }
  },
  "cells": [
    {
      "cell_type": "code",
      "execution_count": 1,
      "metadata": {
        "id": "pt0HgwNedYrp",
        "colab": {
          "base_uri": "https://localhost:8080/"
        },
        "outputId": "d3debe3d-52da-4f30-baed-c6a74e4e20ec"
      },
      "outputs": [
        {
          "output_type": "stream",
          "name": "stdout",
          "text": [
            "Enter the first vector: 1 2 3 4 5\n",
            "Enter the second vector: 2 3 4 1 5\n",
            "Euclidean Distance: 3.4641016151377544\n",
            "Manhattan Distance: 6\n"
          ]
        }
      ],
      "source": [
        "#Q1:Write a function to calculate the Euclidean distance and Manhattan distance between two vectors. The vectors dimension is variable. Please don’t use any distance calculation functions available in Python.\n",
        "def euclidean_distance(vector1, vector2):\n",
        "    if len(vector1) != len(vector2): #checks if two vectors are not equal and returns ValueError\n",
        "        raise ValueError(\"Vectors must have the same dimension\")\n",
        "\n",
        "    distance_squared = sum((x - y) ** 2 for x, y in zip(vector1, vector2)) # calculates the squared Euclidean distance between the two vectors\n",
        "    return distance_squared ** 0.5 # it returns the square root of distance_squared  which is the Euclidean distance between vector1 and vector2.\n",
        "\n",
        "def manhattan_distance(vector1, vector2):#calculates the Manhattan distance between two vectors\n",
        "    if len(vector1) != len(vector2):\n",
        "        raise ValueError(\"Vectors must have the same dimension\")\n",
        "\n",
        "    return sum(abs(x - y) for x, y in zip(vector1, vector2))\n",
        "\n",
        "def get_vector_input():\n",
        "    vector1 = input(\"Enter the first vector: \").split()\n",
        "    vector2 = input(\"Enter the second vector: \").split()\n",
        "\n",
        "    # Convert input values to integers\n",
        "    vector1 = [int(x.strip()) for x in vector1]\n",
        "    vector2 = [int(x.strip()) for x in vector2]\n",
        "\n",
        "    return vector1, vector2\n",
        "\n",
        "# Main program\n",
        "if __name__ == \"__main__\":\n",
        "    # Gets input vectors from the user\n",
        "    vector1, vector2 = get_vector_input()\n",
        "\n",
        "    # Calculate distances\n",
        "    euclidean_dist = euclidean_distance(vector1, vector2)\n",
        "    manhattan_dist = manhattan_distance(vector1, vector2)\n",
        "\n",
        "    # Print distances\n",
        "    print(\"Euclidean Distance:\", euclidean_dist)\n",
        "    print(\"Manhattan Distance:\", manhattan_dist)\n"
      ]
    },
    {
      "cell_type": "code",
      "source": [
        "#Q3:.Write a function to convert categorical variables to numeric using label encoding. Don’t use any existing functionalities.\n",
        "def label_encode_categorical(data):\n",
        "    unique_categories = sorted(set(data))\n",
        "    label_encoding = {category: label for label, category in enumerate(unique_categories)}\n",
        "    return label_encoding\n",
        "\n",
        "def apply_label_encoding(data, label_encoding):\n",
        "    return [label_encoding[category] for category in data]\n",
        "\n",
        "# Main program\n",
        "if __name__ == \"__main__\":\n",
        "    # Sample input data\n",
        "    categorical_data = [\"red\", \"blue\", \"green\", \"red\", \"green\", \"blue\", \"yellow\"]\n",
        "\n",
        "    # Applying  label encoding\n",
        "    encoding = label_encode_categorical(categorical_data)\n",
        "    numeric_labels = apply_label_encoding(categorical_data, encoding)\n",
        "\n",
        "    # Print results\n",
        "    print(\"Label Encoding:\", encoding)\n",
        "    print(\"Numeric Labels:\", numeric_labels)\n"
      ],
      "metadata": {
        "colab": {
          "base_uri": "https://localhost:8080/"
        },
        "id": "WQuz3xFRXFhW",
        "outputId": "f788dffb-f470-4915-f1f3-ac3097c771a8"
      },
      "execution_count": null,
      "outputs": [
        {
          "output_type": "stream",
          "name": "stdout",
          "text": [
            "Label Encoding: {'blue': 0, 'green': 1, 'red': 2, 'yellow': 3}\n",
            "Numeric Labels: [2, 0, 1, 2, 1, 0, 3]\n"
          ]
        }
      ]
    },
    {
      "cell_type": "code",
      "source": [
        "#Q4:Write a function to convert categorical variables to numeric using One-Hotencoding. Don’t use any existing functionalities.\n",
        "def get_unique_categories(data):\n",
        "    return sorted(set(data))\n",
        "\n",
        "def one_hot_encode_categorical(data, unique_categories):\n",
        "    encoded_data = []\n",
        "    for category in data:\n",
        "        encoded_vector = [0] * len(unique_categories)\n",
        "        index = unique_categories.index(category)\n",
        "        encoded_vector[index] = 1\n",
        "        encoded_data.append(encoded_vector)\n",
        "    return encoded_data\n",
        "\n",
        "# Main program\n",
        "if __name__ == \"__main__\":\n",
        "    # Sample\n",
        "    categorical_data = [\"red\", \"blue\", \"green\", \"red\", \"green\", \"blue\", \"yellow\"]\n",
        "\n",
        "    # Get unique categories\n",
        "    unique_categories = get_unique_categories(categorical_data)\n",
        "\n",
        "    # Applying one-hot encoding\n",
        "    one_hot_encoded_data = one_hot_encode_categorical(categorical_data, unique_categories)\n",
        "\n",
        "    # Prints the results\n",
        "    print(\"Unique Categories:\", unique_categories)\n",
        "    print(\"One-Hot Encoded Data:\")\n",
        "    for category, encoded_vector in zip(categorical_data, one_hot_encoded_data):\n",
        "        print(f\"{category}: {encoded_vector}\")\n"
      ],
      "metadata": {
        "colab": {
          "base_uri": "https://localhost:8080/"
        },
        "id": "fg4i9ed8XP-Q",
        "outputId": "18055fa0-a9db-4a8d-8d0f-60dd7ac45fcd"
      },
      "execution_count": null,
      "outputs": [
        {
          "output_type": "stream",
          "name": "stdout",
          "text": [
            "Unique Categories: ['blue', 'green', 'red', 'yellow']\n",
            "One-Hot Encoded Data:\n",
            "red: [0, 0, 1, 0]\n",
            "blue: [1, 0, 0, 0]\n",
            "green: [0, 1, 0, 0]\n",
            "red: [0, 0, 1, 0]\n",
            "green: [0, 1, 0, 0]\n",
            "blue: [1, 0, 0, 0]\n",
            "yellow: [0, 0, 0, 1]\n"
          ]
        }
      ]
    },
    {
      "cell_type": "code",
      "source": [
        "#Q2:Write a function to implement k-NN classifier. k is a variable and based on that the count of neighbors should be selected.\n",
        "import heapq\n",
        "from collections import Counter\n",
        "\n",
        "def euclidean_distance(point1, point2):#Calculate the Euclidean distance between two points\n",
        "    return sum((x - y) ** 2 for x, y in zip(point1, point2)) ** 0.5\n",
        "\n",
        "def k_nearest_neighbors(train_data, test_instance, k): #Classify test_instance based on the k nearest neighbors in train_data\n",
        "    distances = []\n",
        "\n",
        "    # Calculates distances from test_instance to each point in train_data\n",
        "    for train_point in train_data:\n",
        "        distance = euclidean_distance(test_instance, train_point[:-1])  # Last element is the class label\n",
        "        distances.append((distance, train_point))\n",
        "\n",
        "    # Sortss distances and get the k nearest neighbors\n",
        "    k_nearest = heapq.nsmallest(k, distances)\n",
        "\n",
        "    # Getsss the class labels of the k nearest neighbors\n",
        "    neighbor_labels = [neighbor[-1] for _, neighbor in k_nearest]\n",
        "\n",
        "    # Count the occurrences of each class label\n",
        "    label_counts = Counter(neighbor_labels)\n",
        "\n",
        "    # Return the class label with the highest count\n",
        "    return max(label_counts, key=label_counts.get)\n",
        "\n",
        "# Example\n",
        "if __name__ == \"__main__\":\n",
        "    train_data = [\n",
        "        [2, 3, 'A'],\n",
        "        [5, 4, 'A'],\n",
        "        [9, 6, 'B'],\n",
        "        [4, 7, 'B'],\n",
        "        [8, 1, 'A'],\n",
        "        [7, 2, 'A'],\n",
        "    ]\n",
        "\n",
        "    # Example test instance\n",
        "    test_instance = [5, 5]\n",
        "\n",
        "    # Define the value of k\n",
        "    k = 3\n",
        "\n",
        "    # Classify the test instance using k-NN\n",
        "    prediction = k_nearest_neighbors(train_data, test_instance, k)\n",
        "    print(\"Predicted class label:\", prediction)\n"
      ],
      "metadata": {
        "colab": {
          "base_uri": "https://localhost:8080/"
        },
        "id": "Fp_jq_FyfhNr",
        "outputId": "cf505c35-0b37-48ae-9614-142d68c1d3ab"
      },
      "execution_count": 2,
      "outputs": [
        {
          "output_type": "stream",
          "name": "stdout",
          "text": [
            "Predicted class label: A\n"
          ]
        }
      ]
    }
  ]
}